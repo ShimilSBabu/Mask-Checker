{
 "cells": [
  {
   "cell_type": "markdown",
   "metadata": {
    "id": "EMefrVPCg-60"
   },
   "source": [
    "### Importing the libraries"
   ]
  },
  {
   "cell_type": "markdown",
   "metadata": {
    "id": "x_ivG6XcqgZq"
   },
   "source": [
    "Mounting with Gdrive"
   ]
  },
  {
   "cell_type": "code",
   "execution_count": 1,
   "metadata": {
    "id": "lQonwVot6WUp"
   },
   "outputs": [],
   "source": [
    "import os\n",
    "import cv2\n",
    "import numpy as np\n",
    "import pandas as pd\n",
    "import tensorflow as tf\n",
    "from tensorflow import keras\n",
    "#from google.colab import drive\n",
    "from tensorflow.keras import layers\n",
    "from tensorflow.keras.preprocessing import image"
   ]
  },
  {
   "cell_type": "code",
   "execution_count": 2,
   "metadata": {
    "colab": {
     "base_uri": "https://localhost:8080/"
    },
    "id": "yUFSB1c3qd_R",
    "outputId": "7d7f9317-8d3f-4205-f323-a3e68f5216dd"
   },
   "outputs": [],
   "source": [
    "  \n",
    "# drive.mount('/content/gdrive')\n",
    "# os.environ['KAGGLE_CONFIG_DIR'] = \"/content/gdrive/My Drive/Kaggle\"\n",
    "# #changing the working directory\n",
    "# %cd /content/gdrive/My Drive/Kaggle\n",
    "# #pwd"
   ]
  },
  {
   "cell_type": "code",
   "execution_count": 3,
   "metadata": {
    "id": "ly8H5lgMGqEK"
   },
   "outputs": [],
   "source": [
    "#!kaggle datasets download -d spandanpatnaik09/face-mask-detectormask-not-mask-incorrect-mask"
   ]
  },
  {
   "cell_type": "code",
   "execution_count": 4,
   "metadata": {
    "id": "NptlMwJTGqG5"
   },
   "outputs": [],
   "source": [
    "#unzipping the zip files and deleting the zip files\n",
    "#!unzip \\*.zip  && rm *.zip"
   ]
  },
  {
   "cell_type": "code",
   "execution_count": 5,
   "metadata": {
    "id": "nLFLGX7mGqM7"
   },
   "outputs": [
    {
     "name": "stdout",
     "output_type": "stream",
     "text": [
      "Num GPUs Available:  1\n"
     ]
    }
   ],
   "source": [
    "print(\"Num GPUs Available: \", len(tf.config.list_physical_devices('GPU')))"
   ]
  },
  {
   "cell_type": "code",
   "execution_count": 6,
   "metadata": {
    "colab": {
     "base_uri": "https://localhost:8080/",
     "height": 35
    },
    "id": "FIleuCAjoFD8",
    "outputId": "32200819-cd68-4cf5-97a2-0d34afbccb50"
   },
   "outputs": [
    {
     "data": {
      "text/plain": [
       "'2.5.0'"
      ]
     },
     "execution_count": 6,
     "metadata": {},
     "output_type": "execute_result"
    }
   ],
   "source": [
    "tf.__version__"
   ]
  },
  {
   "cell_type": "code",
   "execution_count": null,
   "metadata": {
    "id": "W7p236PnBjfX"
   },
   "outputs": [],
   "source": []
  },
  {
   "cell_type": "code",
   "execution_count": 7,
   "metadata": {
    "colab": {
     "base_uri": "https://localhost:8080/"
    },
    "id": "qP-TUKsIBjfX",
    "outputId": "15e97cc8-cca3-4587-bf90-67ed34565daf"
   },
   "outputs": [
    {
     "name": "stdout",
     "output_type": "stream",
     "text": [
      "Found 2083 files belonging to 3 classes.\n",
      "Using 1667 files for training.\n",
      "Found 2083 files belonging to 3 classes.\n",
      "Using 416 files for validation.\n"
     ]
    }
   ],
   "source": [
    "train = tf.keras.preprocessing.image_dataset_from_directory(\n",
    "    \"D:\\learn\\Projects\\My Pjts\\Mask\\dataset\", labels='inferred', label_mode='categorical',\n",
    "    class_names=None, color_mode='rgb', batch_size=64, image_size=(64,64), \n",
    "    shuffle=True, seed=45, validation_split=0.2, subset= \"training\",\n",
    "    interpolation='bilinear', follow_links=False, smart_resize=True\n",
    ")\n",
    "\n",
    "\n",
    "test= tf.keras.preprocessing.image_dataset_from_directory(\n",
    "    \"D:\\learn\\Projects\\My Pjts\\Mask\\dataset\", labels='inferred', label_mode='categorical',\n",
    "    class_names=None, color_mode='rgb', batch_size=64, image_size=(64,64), \n",
    "    shuffle=True, seed=45, validation_split=0.2, subset= \"validation\",\n",
    "    interpolation='bilinear', follow_links=False, smart_resize=True\n",
    ")"
   ]
  },
  {
   "cell_type": "markdown",
   "metadata": {
    "id": "af8O4l90gk7B"
   },
   "source": [
    "## Part 2 - Building the CNN"
   ]
  },
  {
   "cell_type": "markdown",
   "metadata": {
    "id": "ces1gXY2lmoX"
   },
   "source": [
    "### Initialising the CNN"
   ]
  },
  {
   "cell_type": "code",
   "execution_count": 8,
   "metadata": {
    "id": "SAUt4UMPlhLS"
   },
   "outputs": [],
   "source": [
    "cnn = tf.keras.models.Sequential()"
   ]
  },
  {
   "cell_type": "markdown",
   "metadata": {
    "id": "u5YJj_XMl5LF"
   },
   "source": [
    "### Step 1 - Convolution"
   ]
  },
  {
   "cell_type": "code",
   "execution_count": 9,
   "metadata": {
    "id": "XPzPrMckl-hV"
   },
   "outputs": [],
   "source": [
    "cnn.add(tf.keras.layers.Conv2D(filters=64, kernel_size=3, activation='relu', input_shape=[64,64, 3]))"
   ]
  },
  {
   "cell_type": "markdown",
   "metadata": {
    "id": "tf87FpvxmNOJ"
   },
   "source": [
    "### Step 2 - Pooling"
   ]
  },
  {
   "cell_type": "code",
   "execution_count": 10,
   "metadata": {
    "id": "ncpqPl69mOac"
   },
   "outputs": [],
   "source": [
    "cnn.add(tf.keras.layers.MaxPool2D(pool_size=2, strides=1))"
   ]
  },
  {
   "cell_type": "markdown",
   "metadata": {
    "id": "xaTOgD8rm4mU"
   },
   "source": [
    "### Adding a second convolutional layer"
   ]
  },
  {
   "cell_type": "code",
   "execution_count": 11,
   "metadata": {
    "id": "i_-FZjn_m8gk"
   },
   "outputs": [],
   "source": [
    "# cnn.add(tf.keras.layers.Conv2D(filters=128, kernel_size=3, activation='relu'))\n",
    "# cnn.add(tf.keras.layers.Conv2D(filters=128, kernel_size=3, activation='relu'))\n",
    "# cnn.add(tf.keras.layers.Conv2D(filters=64, kernel_size=3, activation='relu'))\n",
    "# cnn.add(tf.keras.layers.MaxPool2D(pool_size=2, strides=2))"
   ]
  },
  {
   "cell_type": "code",
   "execution_count": 12,
   "metadata": {
    "id": "atWCfhsKylcg"
   },
   "outputs": [],
   "source": [
    "# cnn.add(tf.keras.layers.Conv2D(filters=64, kernel_size=3, activation='relu'))\n",
    "# cnn.add(tf.keras.layers.MaxPool2D(pool_size=2, strides=2))"
   ]
  },
  {
   "cell_type": "markdown",
   "metadata": {
    "id": "tmiEuvTunKfk"
   },
   "source": [
    "### Step 3 - Flattening"
   ]
  },
  {
   "cell_type": "code",
   "execution_count": 13,
   "metadata": {
    "id": "6AZeOGCvnNZn"
   },
   "outputs": [],
   "source": [
    "cnn.add(tf.keras.layers.Flatten())"
   ]
  },
  {
   "cell_type": "markdown",
   "metadata": {
    "id": "dAoSECOm203v"
   },
   "source": [
    "### Step 4 - Full Connection"
   ]
  },
  {
   "cell_type": "code",
   "execution_count": 14,
   "metadata": {
    "id": "8GtmUlLd26Nq"
   },
   "outputs": [],
   "source": [
    "# cnn.add(tf.keras.layers.Dense(units=256, activation='relu'))\n",
    "# cnn.add(tf.keras.layers.Dropout(0.5))"
   ]
  },
  {
   "cell_type": "code",
   "execution_count": 15,
   "metadata": {
    "id": "tYxJ8WIZxdHJ"
   },
   "outputs": [],
   "source": [
    "# cnn.add(tf.keras.layers.Dense(units=128, activation='relu'))\n",
    "# cnn.add(tf.keras.layers.Dropout(0.2))"
   ]
  },
  {
   "cell_type": "code",
   "execution_count": 16,
   "metadata": {
    "id": "lPRCf6I13VVc"
   },
   "outputs": [],
   "source": [
    "# cnn.add(tf.keras.layers.Dense(units=32, activation='relu'))\n",
    "cnn.add(tf.keras.layers.Dense(units=32, activation='relu'))\n"
   ]
  },
  {
   "cell_type": "code",
   "execution_count": null,
   "metadata": {
    "id": "6JJ6mUjx2zVV"
   },
   "outputs": [],
   "source": [
    "\n"
   ]
  },
  {
   "cell_type": "markdown",
   "metadata": {
    "id": "yTldFvbX28Na"
   },
   "source": [
    "### Step 5 - Output Layer"
   ]
  },
  {
   "cell_type": "code",
   "execution_count": 17,
   "metadata": {
    "id": "1p_Zj1Mc3Ko_"
   },
   "outputs": [],
   "source": [
    "cnn.add(tf.keras.layers.Dense(units=3, activation='softmax'))"
   ]
  },
  {
   "cell_type": "markdown",
   "metadata": {
    "id": "D6XkI90snSDl"
   },
   "source": [
    "## Part 3 - Training the CNN"
   ]
  },
  {
   "cell_type": "markdown",
   "metadata": {
    "id": "vfrFQACEnc6i"
   },
   "source": [
    "### Compiling the CNN"
   ]
  },
  {
   "cell_type": "code",
   "execution_count": 18,
   "metadata": {
    "id": "NALksrNQpUlJ"
   },
   "outputs": [],
   "source": [
    "cnn.compile(optimizer = 'adam', loss = 'categorical_crossentropy', metrics = ['accuracy'])"
   ]
  },
  {
   "cell_type": "markdown",
   "metadata": {
    "id": "ehS-v3MIpX2h"
   },
   "source": [
    "### Training the CNN on the Training set and evaluating it on the Test set"
   ]
  },
  {
   "cell_type": "code",
   "execution_count": null,
   "metadata": {
    "id": "XUj1W4PJptta"
   },
   "outputs": [
    {
     "name": "stdout",
     "output_type": "stream",
     "text": [
      "Epoch 1/30\n",
      "27/27 [==============================] - 15s 261ms/step - loss: 1157.5104 - accuracy: 0.3311 - val_loss: 1.0991 - val_accuracy: 0.3173\n",
      "Epoch 2/30\n",
      "27/27 [==============================] - 2s 56ms/step - loss: 2.4921 - accuracy: 0.3293 - val_loss: 1.0992 - val_accuracy: 0.3173\n",
      "Epoch 3/30\n",
      "27/27 [==============================] - 2s 55ms/step - loss: 1.0987 - accuracy: 0.3323 - val_loss: 1.0991 - val_accuracy: 0.3173\n",
      "Epoch 4/30\n",
      "27/27 [==============================] - 2s 55ms/step - loss: 1.0987 - accuracy: 0.3323 - val_loss: 1.0991 - val_accuracy: 0.3173\n",
      "Epoch 5/30\n",
      "27/27 [==============================] - 2s 56ms/step - loss: 1.0987 - accuracy: 0.3323 - val_loss: 1.0992 - val_accuracy: 0.3173\n",
      "Epoch 6/30\n",
      "27/27 [==============================] - 2s 55ms/step - loss: 1.0987 - accuracy: 0.3323 - val_loss: 1.0991 - val_accuracy: 0.3173\n",
      "Epoch 7/30\n",
      "27/27 [==============================] - 2s 55ms/step - loss: 1.0986 - accuracy: 0.3323 - val_loss: 1.0990 - val_accuracy: 0.3173\n",
      "Epoch 8/30\n",
      "27/27 [==============================] - 2s 55ms/step - loss: 1.0986 - accuracy: 0.3323 - val_loss: 1.0990 - val_accuracy: 0.3173\n",
      "Epoch 9/30\n",
      "27/27 [==============================] - 2s 55ms/step - loss: 1.0986 - accuracy: 0.3323 - val_loss: 1.0990 - val_accuracy: 0.3173\n",
      "Epoch 10/30\n",
      "27/27 [==============================] - 2s 57ms/step - loss: 1.0986 - accuracy: 0.3323 - val_loss: 1.0990 - val_accuracy: 0.3173\n",
      "Epoch 11/30\n",
      "18/27 [===================>..........] - ETA: 0s - loss: 1.0986 - accuracy: 0.3299"
     ]
    }
   ],
   "source": [
    "cnn.fit(x = train, validation_data = test, epochs = 30)"
   ]
  },
  {
   "cell_type": "code",
   "execution_count": null,
   "metadata": {
    "id": "fvoLc2_KS5hW"
   },
   "outputs": [],
   "source": [
    "cnn.save('mask7.h5')"
   ]
  },
  {
   "cell_type": "code",
   "execution_count": null,
   "metadata": {
    "id": "Xd58EpiOjzgq"
   },
   "outputs": [],
   "source": [
    "sv = tf.keras.models.load_model('mask7.h5')"
   ]
  },
  {
   "cell_type": "code",
   "execution_count": null,
   "metadata": {
    "id": "fJS1ry2HUcZ1"
   },
   "outputs": [],
   "source": [
    "msk = cv2.imread(\"mask.jpg\")\n",
    "fac = cv2.imread(\"face.jpg\")\n",
    "wrg = cv2.imread(\"wrong.jpg\")"
   ]
  },
  {
   "cell_type": "code",
   "execution_count": null,
   "metadata": {
    "id": "zAd_wGg6UccF"
   },
   "outputs": [],
   "source": [
    "nam = [\"wrong\",\"mask\",\"face\"]"
   ]
  },
  {
   "cell_type": "markdown",
   "metadata": {
    "id": "U3PZasO0006Z"
   },
   "source": [
    "## Part 4 - Making a single prediction"
   ]
  },
  {
   "cell_type": "code",
   "execution_count": null,
   "metadata": {
    "colab": {
     "base_uri": "https://localhost:8080/"
    },
    "id": "gsSiWEJY1BPB",
    "outputId": "dcf2e193-b5c6-4556-a698-f19846d9e18c"
   },
   "outputs": [],
   "source": [
    "\n",
    "test_image = image.load_img('wrong.jpg', target_size = (64,64))\n",
    "test_image = image.img_to_array(test_image)\n",
    "test_image = np.expand_dims(test_image, axis = 0)\n",
    "result = sv.predict(test_image)\n",
    "\n",
    "print(result)\n",
    "result = np.argmax(result)\n",
    "\n",
    "print(nam[result])"
   ]
  }
 ],
 "metadata": {
  "accelerator": "GPU",
  "colab": {
   "collapsed_sections": [],
   "name": "convolutional_neural_network-Copy1.ipynb",
   "provenance": []
  },
  "kernelspec": {
   "display_name": "Python 3",
   "language": "python",
   "name": "python3"
  },
  "language_info": {
   "codemirror_mode": {
    "name": "ipython",
    "version": 3
   },
   "file_extension": ".py",
   "mimetype": "text/x-python",
   "name": "python",
   "nbconvert_exporter": "python",
   "pygments_lexer": "ipython3",
   "version": "3.9.5"
  }
 },
 "nbformat": 4,
 "nbformat_minor": 4
}
